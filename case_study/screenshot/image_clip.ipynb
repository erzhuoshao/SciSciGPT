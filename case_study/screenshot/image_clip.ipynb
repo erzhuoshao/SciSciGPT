{
 "cells": [
  {
   "cell_type": "code",
   "execution_count": 1,
   "metadata": {},
   "outputs": [
    {
     "name": "stdout",
     "output_type": "stream",
     "text": [
      "Created 31 image segments in case-study-1_clipped/\n"
     ]
    }
   ],
   "source": [
    "import cv2\n",
    "import math\n",
    "import os\n",
    "\n",
    "input_image = 'case-study-1.png'\n",
    "\n",
    "# Create output directory if it doesn't exist\n",
    "output_dir = os.path.basename(input_image).split('.')[0] + '_clipped'\n",
    "if not os.path.exists(output_dir):\n",
    "    os.makedirs(output_dir)\n",
    "\n",
    "# Read the image\n",
    "img = cv2.imread('case-study-1.png')\n",
    "\n",
    "# Get image dimensions\n",
    "height, width = img.shape[:2]\n",
    "\n",
    "# Calculate number of 2160px segments\n",
    "n_segments = math.ceil(height / 2160)\n",
    "\n",
    "# Create list to store image segments\n",
    "image_segments = []\n",
    "\n",
    "# Clip image into 2160px segments\n",
    "for i in range(n_segments):\n",
    "    start_y = i * 2160\n",
    "    end_y = min((i + 1) * 2160, height)\n",
    "    \n",
    "    # Extract segment\n",
    "    segment = img[start_y:end_y, :]\n",
    "    image_segments.append(segment)\n",
    "    \n",
    "    # Save individual segments\n",
    "    output_path = os.path.join(output_dir, f'case-study-1-segment-{i+1}.png')\n",
    "    cv2.imwrite(output_path, segment)\n",
    "\n",
    "print(f\"Created {len(image_segments)} image segments in {output_dir}/\")"
   ]
  },
  {
   "cell_type": "code",
   "execution_count": null,
   "metadata": {},
   "outputs": [],
   "source": []
  }
 ],
 "metadata": {
  "kernelspec": {
   "display_name": "sciscigpt",
   "language": "python",
   "name": "python3"
  },
  "language_info": {
   "codemirror_mode": {
    "name": "ipython",
    "version": 3
   },
   "file_extension": ".py",
   "mimetype": "text/x-python",
   "name": "python",
   "nbconvert_exporter": "python",
   "pygments_lexer": "ipython3",
   "version": "3.12.4"
  }
 },
 "nbformat": 4,
 "nbformat_minor": 2
}
